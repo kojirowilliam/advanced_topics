{
 "cells": [
  {
   "cell_type": "code",
   "execution_count": 7,
   "metadata": {},
   "outputs": [],
   "source": [
    "class Agent:\n",
    "    '''\n",
    "    A class that represents an Agent in the Environment.\n",
    "\n",
    "    ...\n",
    "\n",
    "    Attributes\n",
    "    ----------\n",
    "    percepts : list\n",
    "        tells whether the agent is in the left room and whether the room it's currently in is clean.\n",
    "\n",
    "    Methods\n",
    "    -------\n",
    "    set_percepts(agent_percepts)\n",
    "        sets the agent's perception of the environment.\n",
    "    rules()\n",
    "        returns an action based on the perception of the environment from the perspective of the agent.\n",
    "    '''\n",
    "\n",
    "    def __init__(self, percepts=None):\n",
    "        '''\n",
    "        Parameters\n",
    "        ----------\n",
    "        percepts : list\n",
    "            a list of strings and/or Nones representing the perception of the environment from the perspective of\n",
    "            the agent.\n",
    "        performance : int\n",
    "            an integer representing the number of times the agent has completed a task.\n",
    "        '''\n",
    "\n",
    "        self.percepts = percepts\n",
    "        self.performance = 0\n",
    "        self.action = \"right\"\n",
    "\n",
    "    def set_percepts(self, agent_percepts):\n",
    "        '''\n",
    "        Sets the agent's perception of the environment.\n",
    "\n",
    "        Parameters\n",
    "        ----------\n",
    "        percepts : list\n",
    "            A list of strings and/or Nones that represents the environment from the Agent's perceptions\n",
    "        '''\n",
    "\n",
    "        self.percepts = agent_percepts\n",
    "\n",
    "    def rules(self):\n",
    "        '''\n",
    "        Returns an action depending on the agent's perceptions of the environment.\n",
    "\n",
    "        Returns\n",
    "        -------\n",
    "        action : str\n",
    "            a string representing the action the Agent wants to make in the environment.\n",
    "        '''\n",
    "    \n",
    "        rules_dict = { # this is the sequential order of moves in relative roomba space. directions are relative to where roomba is looking, not cardinal enviornment directions\n",
    "            \"right\": \"forward\",\n",
    "            \"forward\": \"left\",\n",
    "            \"left\": \"back\",\n",
    "            \"back\": \"error\"\n",
    "        }\n",
    "        \n",
    "        last_percept = self.percepts[-1]\n",
    "        \n",
    "        if last_percept == \"dirty\": # duh\n",
    "            self.action = \"suck\"\n",
    "            self.performance += 1\n",
    "            \n",
    "        if last_percept == \"clean\": # if we haven't tried to move yet, let's move right\n",
    "            self.action = \"right\"\n",
    "\n",
    "        if last_percept == \"bump\": # okay, we tried to move and we hit something, let's take our last action and use it to find a new one\n",
    "            self.action = rules_dict.get(self.action)\n",
    "        \n",
    "        if self.action == \"error\": # we've tried everything and nothing worked, throw error\n",
    "            raise AttributeError(\"Roomba is stuck in a hole, no possible movements\")\n",
    "        \n",
    "        return self.action"
   ]
  },
  {
   "cell_type": "code",
   "execution_count": 11,
   "metadata": {},
   "outputs": [
    {
     "name": "stdout",
     "output_type": "stream",
     "text": [
      "forward\n"
     ]
    }
   ],
   "source": [
    "roomba = Agent()\n",
    "roomba.set_percepts([\"right\", \"right\", \"bump\"])\n",
    "print(roomba.rules())"
   ]
  },
  {
   "cell_type": "code",
   "execution_count": 8,
   "metadata": {},
   "outputs": [
    {
     "ename": "NameError",
     "evalue": "name 'rules_dict' is not defined",
     "output_type": "error",
     "traceback": [
      "\u001b[0;31m---------------------------------------------------------------------------\u001b[0m",
      "\u001b[0;31mNameError\u001b[0m                                 Traceback (most recent call last)",
      "\u001b[0;32m<ipython-input-8-f68f0e68cac6>\u001b[0m in \u001b[0;36m<module>\u001b[0;34m\u001b[0m\n\u001b[0;32m----> 1\u001b[0;31m \u001b[0mrules_dict\u001b[0m\u001b[0;34m.\u001b[0m\u001b[0mget\u001b[0m\u001b[0;34m(\u001b[0m\u001b[0mself\u001b[0m\u001b[0;34m.\u001b[0m\u001b[0maction\u001b[0m\u001b[0;34m)\u001b[0m\u001b[0;34m\u001b[0m\u001b[0;34m\u001b[0m\u001b[0m\n\u001b[0m",
      "\u001b[0;31mNameError\u001b[0m: name 'rules_dict' is not defined"
     ]
    }
   ],
   "source": []
  },
  {
   "cell_type": "code",
   "execution_count": 10,
   "metadata": {},
   "outputs": [
    {
     "ename": "NameError",
     "evalue": "name 'rules_dict' is not defined",
     "output_type": "error",
     "traceback": [
      "\u001b[0;31m---------------------------------------------------------------------------\u001b[0m",
      "\u001b[0;31mNameError\u001b[0m                                 Traceback (most recent call last)",
      "\u001b[0;32m<ipython-input-10-0140581d1615>\u001b[0m in \u001b[0;36m<module>\u001b[0;34m\u001b[0m\n\u001b[0;32m----> 1\u001b[0;31m \u001b[0mrules_dict\u001b[0m\u001b[0;34m.\u001b[0m\u001b[0mget\u001b[0m\u001b[0;34m(\u001b[0m\u001b[0;34m\"bump\"\u001b[0m\u001b[0;34m)\u001b[0m\u001b[0;34m\u001b[0m\u001b[0;34m\u001b[0m\u001b[0m\n\u001b[0m",
      "\u001b[0;31mNameError\u001b[0m: name 'rules_dict' is not defined"
     ]
    }
   ],
   "source": [
    "rules_dict.get(\"bump\")"
   ]
  },
  {
   "cell_type": "code",
   "execution_count": null,
   "metadata": {},
   "outputs": [],
   "source": []
  }
 ],
 "metadata": {
  "kernelspec": {
   "display_name": "Python 3",
   "language": "python",
   "name": "python3"
  },
  "language_info": {
   "codemirror_mode": {
    "name": "ipython",
    "version": 3
   },
   "file_extension": ".py",
   "mimetype": "text/x-python",
   "name": "python",
   "nbconvert_exporter": "python",
   "pygments_lexer": "ipython3",
   "version": "3.8.3"
  }
 },
 "nbformat": 4,
 "nbformat_minor": 4
}
